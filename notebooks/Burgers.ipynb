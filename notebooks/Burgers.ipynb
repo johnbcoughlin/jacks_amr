{
 "cells": [
  {
   "cell_type": "code",
   "execution_count": 1,
   "id": "365f9ef6-bff1-4f64-b82c-f095ae97aed3",
   "metadata": {},
   "outputs": [],
   "source": [
    "import sys\n",
    "sys.path.append(\"../src\")\n",
    "\n",
    "from jacks_amr import amr\n",
    "import jax.numpy as jnp\n",
    "import jax\n",
    "import equinox as eqx\n",
    "import matplotlib.pyplot as plt\n",
    "import matplotlib as mpl\n",
    "import timeit\n",
    "\n",
    "from jacks_amr.flux_divergence import flux_divergence\n",
    "from jacks_amr.refinement import refine_grid_for_function\n",
    "from jacks_amr.indicators import approximate_gradient_indicator"
   ]
  },
  {
   "cell_type": "code",
   "execution_count": 2,
   "id": "3b4a9400-8a7a-4f98-8aa8-0aa80dcb8543",
   "metadata": {},
   "outputs": [],
   "source": [
    "n_levels = 5\n",
    "\n",
    "L0_shape = (60,)\n",
    "\n",
    "level_specs = [amr.AMRLevelSpec(0, L0_shape, 1, (60,))] + [\n",
    "    amr.AMRLevelSpec(i, L0_shape, min(80, 9*(2**i)), (2,)) for i in range(1, 5)\n",
    "]\n",
    "\n",
    "AMR = amr.AMRGridFactory(5, 1, L0_shape,\n",
    "                         (0.,), (2. * jnp.pi,), level_specs)\n",
    "\n",
    "def f_init(x):\n",
    "    return jnp.sin(x) + 0.1\n",
    "\n",
    "\n",
    "def flux(q_in, q_out, normal):\n",
    "    F = 0.5 * (q_in**2 + q_out**2)\n",
    "    jump = (q_out - q_in)\n",
    "    return F - 0.5 * jnp.maximum(jnp.abs(q_out), jnp.abs(q_in)) * jump\n",
    "\n",
    "copyout_bcs = lambda coords, copyout_values: copyout_values"
   ]
  }
 ],
 "metadata": {
  "kernelspec": {
   "display_name": "Python 3 (ipykernel)",
   "language": "python",
   "name": "python3"
  },
  "language_info": {
   "codemirror_mode": {
    "name": "ipython",
    "version": 3
   },
   "file_extension": ".py",
   "mimetype": "text/x-python",
   "name": "python",
   "nbconvert_exporter": "python",
   "pygments_lexer": "ipython3",
   "version": "3.13.3"
  }
 },
 "nbformat": 4,
 "nbformat_minor": 5
}
