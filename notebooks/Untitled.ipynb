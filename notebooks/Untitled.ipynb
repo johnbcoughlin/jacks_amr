{
 "cells": [
  {
   "cell_type": "code",
   "execution_count": 1,
   "id": "041dda65-d6e4-4e8f-b8b3-7febf2c8d6ce",
   "metadata": {},
   "outputs": [],
   "source": [
    "import sys\n",
    "sys.path.append(\"../src\")\n",
    "\n",
    "from jacks_amr import amr\n",
    "import jax.numpy as jnp\n",
    "import jax\n",
    "import equinox as eqx\n",
    "import matplotlib.pyplot as plt\n",
    "import matplotlib as mpl\n",
    "import timeit\n",
    "\n",
    "from jacks_amr.flux_divergence import flux_divergence\n",
    "from jacks_amr.refinement import refine_grid_for_function\n",
    "from jacks_amr.indicators import approximate_gradient_indicator"
   ]
  },
  {
   "cell_type": "code",
   "execution_count": 2,
   "id": "3d1269dc-cfc5-44db-b0b8-9d34bc6d810c",
   "metadata": {},
   "outputs": [],
   "source": [
    "def plot_amr_grid_func(f):\n",
    "    grid = f.grid\n",
    "\n",
    "    all_f_vals = jnp.concatenate([level_vals.flatten() for level_vals in f.level_values])\n",
    "    cnorm = mpl.colors.Normalize(vmin=jnp.nanmin(all_f_vals), vmax=jnp.nanmax(all_f_vals))\n",
    "    cmap = mpl.cm.viridis\n",
    "    m = lambda x: cmap(cnorm(x))\n",
    "\n",
    "    fig, ax = plt.subplots()\n",
    "\n",
    "    for i, level in enumerate(grid.levels):\n",
    "        dx = 1.0 / 6 / (2**i)\n",
    "        spec = AMR.level_specs[i]\n",
    "        x, y = level.block_indices\n",
    "        coords = AMR.level_coordinates_lower[i]\n",
    "        for j in range(level.n_active):\n",
    "            block_indices = jax.tree.map(lambda a: a[j], level.block_indices)\n",
    "            if block_indices[0] == -1:\n",
    "                continue\n",
    "            block_origin = grid.indices_to_origin(i, block_indices)\n",
    "            block_active_idx = level.block_index_map[block_indices]\n",
    "            for k1 in range(spec.block_shape[0]):\n",
    "                for k2 in range(spec.block_shape[1]):\n",
    "                    s1 = block_origin[0] + k1\n",
    "                    s2 = block_origin[1] + k2\n",
    "                    val = f.level_values[i][block_active_idx, k1, k2]\n",
    "                    rect = mpl.patches.Rectangle(\n",
    "                            (coords[0].flatten()[s1], coords[1].flatten()[s2]), dx, dx,\n",
    "                            linewidth=1,\n",
    "                            edgecolor='r',\n",
    "                            facecolor=m(val))\n",
    "                    ax.add_patch(rect)\n",
    "\n",
    "    return fig"
   ]
  },
  {
   "cell_type": "code",
   "execution_count": 3,
   "id": "1fed9fae-94f7-4d5d-8964-ff30b7423033",
   "metadata": {},
   "outputs": [],
   "source": [
    "n_levels = 5\n",
    "\n",
    "L0_shape = (6, 6)\n",
    "\n",
    "level_specs = [amr.AMRLevelSpec(0, L0_shape, 1, (6, 6))] + [\n",
    "    amr.AMRLevelSpec(i, L0_shape, min(80, 9*(4**i)), (2, 2)) for i in range(1, 5)\n",
    "]\n",
    "\n",
    "AMR = amr.AMRGridFactory(5, 1, (6, 6),\n",
    "                         (0., 0.), (1., 1.), level_specs)\n",
    "\n",
    "def f_init(x, y):\n",
    "    return jnp.tanh(-(jnp.sqrt(x**2 + y**2) - 0.7) / 0.1)\n",
    "\n",
    "    \n",
    "def flux(q_in, q_out, normal):\n",
    "    u = jnp.array([0.4, 0.9])\n",
    "    return 0.5 * (q_in + q_out) + (jnp.dot(u, normal))\n",
    "    \n",
    "copyout_bcs = lambda coords, copyout_values: copyout_values"
   ]
  },
  {
   "cell_type": "code",
   "execution_count": 4,
   "id": "b48ded45-2586-41b4-a908-39fbe9b26b29",
   "metadata": {},
   "outputs": [
    {
     "data": {
      "image/png": "[encoded data removed]",
      "text/plain": [
       "<Figure size 640x480 with 1 Axes>"
      ]
     },
     "metadata": {},
     "output_type": "display_data"
    }
   ],
   "source": [
    "def criterion(coarse, fine):\n",
    "    return jnp.sqrt(jnp.sum(jnp.abs(coarse - fine)**2))\n",
    "    \n",
    "grid = AMR.refine_to_approximate(f_init, criterion)\n",
    "f = grid.approximate(f_init)\n",
    "# f = refine_grid_for_function(f0, copyout_bcs, approximate_gradient_indicator)\n",
    "# f = refine_grid_for_function(f, copyout_bcs, approximate_gradient_indicator)\n",
    "\n",
    "fig = plot_amr_grid_func(f)"
   ]
  },
  {
   "cell_type": "code",
   "execution_count": 5,
   "id": "8af14dec-5279-4913-a0ce-bb632b173639",
   "metadata": {},
   "outputs": [
    {
     "ename": "NameError",
     "evalue": "name 'grid' is not defined",
     "output_type": "error",
     "traceback": [
      "\u001b[31m---------------------------------------------------------------------------\u001b[39m",
      "\u001b[31mNameError\u001b[39m                                 Traceback (most recent call last)",
      "\u001b[36mCell\u001b[39m\u001b[36m \u001b[39m\u001b[32mIn[5]\u001b[39m\u001b[32m, line 6\u001b[39m\n\u001b[32m      4\u001b[39m grid = AMR.refine_to_approximate(f_init, criterion)\n\u001b[32m      5\u001b[39m f = grid.approximate(f_init)\n\u001b[32m----> \u001b[39m\u001b[32m6\u001b[39m f = \u001b[43mrefine_grid_for_function\u001b[49m\u001b[43m(\u001b[49m\u001b[43mf\u001b[49m\u001b[43m,\u001b[49m\u001b[43m \u001b[49m\u001b[43mcopyout_bcs\u001b[49m\u001b[43m,\u001b[49m\u001b[43m \u001b[49m\u001b[43mapproximate_gradient_indicator\u001b[49m\u001b[43m)\u001b[49m\n\u001b[32m      7\u001b[39m \u001b[38;5;66;03m# f = refine_grid_for_function(f, copyout_bcs, approximate_gradient_indicator)\u001b[39;00m\n\u001b[32m      9\u001b[39m fig = plot_amr_grid_func(f)\n",
      "    \u001b[31m[... skipping hidden 16 frame]\u001b[39m\n",
      "\u001b[36mFile \u001b[39m\u001b[32m~/src/jacks-amr/notebooks/../src/jacks_amr/refinement.py:65\u001b[39m, in \u001b[36mrefine_grid_for_function\u001b[39m\u001b[34m(q, bcs, indicator, top_fraction_of_cells, bottom_fraction_of_cells)\u001b[39m\n\u001b[32m     58\u001b[39m         can_refine = jnp.logical_not(is_refined_at_next_level)\n\u001b[32m     60\u001b[39m         \u001b[38;5;28;01mreturn\u001b[39;00m jax.lax.cond(\n\u001b[32m     61\u001b[39m             (fine_block_active_idx != -\u001b[32m1\u001b[39m) & (should_coarsen[fine_level_idx][fine_block_active_idx]) & can_refine,\n\u001b[32m     62\u001b[39m             \u001b[38;5;28;01mlambda\u001b[39;00m: coarsen_block(carry, fine_block_active_idx),\n\u001b[32m     63\u001b[39m             \u001b[38;5;28;01mlambda\u001b[39;00m: carry), \u001b[38;5;28;01mNone\u001b[39;00m\n\u001b[32m---> \u001b[39m\u001b[32m65\u001b[39m     carry, _ = \u001b[43mjax\u001b[49m\u001b[43m.\u001b[49m\u001b[43mlax\u001b[49m\u001b[43m.\u001b[49m\u001b[43mscan\u001b[49m\u001b[43m(\u001b[49m\u001b[43mmaybe_coarsen_block\u001b[49m\u001b[43m,\u001b[49m\u001b[43m \u001b[49m\u001b[43m(\u001b[49m\u001b[43mq\u001b[49m\u001b[43m,\u001b[49m\u001b[43m \u001b[49m\u001b[43mgrid\u001b[49m\u001b[43m)\u001b[49m\u001b[43m,\u001b[49m\u001b[43m \u001b[49m\n\u001b[32m     66\u001b[39m \u001b[43m        \u001b[49m\u001b[43mjnp\u001b[49m\u001b[43m.\u001b[49m\u001b[43marange\u001b[49m\u001b[43m(\u001b[49m\u001b[43mgrid\u001b[49m\u001b[43m.\u001b[49m\u001b[43mlevel_specs\u001b[49m\u001b[43m[\u001b[49m\u001b[43mfine_level_idx\u001b[49m\u001b[43m]\u001b[49m\u001b[43m.\u001b[49m\u001b[43mn_blocks\u001b[49m\u001b[43m)\u001b[49m\u001b[43m)\u001b[49m\n\u001b[32m     67\u001b[39m     q, grid = carry\n\u001b[32m     69\u001b[39m \u001b[38;5;66;03m# After coarsening, refine\u001b[39;00m\n",
      "    \u001b[31m[... skipping hidden 10 frame]\u001b[39m\n",
      "\u001b[36mFile \u001b[39m\u001b[32m~/src/jacks-amr/notebooks/../src/jacks_amr/refinement.py:53\u001b[39m, in \u001b[36mrefine_grid_for_function.<locals>.maybe_coarsen_block\u001b[39m\u001b[34m(carry, fine_block_active_idx)\u001b[39m\n\u001b[32m     51\u001b[39m     is_refined_at_next_level = \u001b[38;5;28;01mFalse\u001b[39;00m\n\u001b[32m     52\u001b[39m \u001b[38;5;28;01melse\u001b[39;00m:\n\u001b[32m---> \u001b[39m\u001b[32m53\u001b[39m     indexer = \u001b[43mgrid\u001b[49m\u001b[43m.\u001b[49m\u001b[43mindex_contained_fine_level_blocks\u001b[49m\u001b[43m(\u001b[49m\u001b[43mfine_level_idx\u001b[49m\u001b[43m,\u001b[49m\u001b[43m \u001b[49m\n\u001b[32m     54\u001b[39m \u001b[43m        \u001b[49m\u001b[43mgrid\u001b[49m\u001b[43m.\u001b[49m\u001b[43mblock_indices\u001b[49m\u001b[43m(\u001b[49m\u001b[43mfine_level_idx\u001b[49m\u001b[43m,\u001b[49m\u001b[43m \u001b[49m\u001b[43mfine_block_active_idx\u001b[49m\u001b[43m)\u001b[49m\u001b[43m)\u001b[49m\n\u001b[32m     55\u001b[39m     is_refined_at_next_level = jnp.any(\n\u001b[32m     56\u001b[39m         grid.levels[fine_level_idx+\u001b[32m1\u001b[39m].block_index_map[indexer] != -\u001b[32m1\u001b[39m)\n\u001b[32m     58\u001b[39m can_refine = jnp.logical_not(is_refined_at_next_level)\n",
      "    \u001b[31m[... skipping hidden 1 frame]\u001b[39m\n",
      "\u001b[36mFile \u001b[39m\u001b[32m~/src/jacks-amr/notebooks/../src/jacks_amr/amr.py:342\u001b[39m, in \u001b[36mAMRGrid.index_contained_fine_level_blocks\u001b[39m\u001b[34m(self, coarse_level_idx, coarse_block_indices)\u001b[39m\n\u001b[32m    338\u001b[39m fine_block_origin = \u001b[38;5;28mself\u001b[39m.refine_block_origin(coarse_block_origin)\n\u001b[32m    339\u001b[39m fine_block_indices = \u001b[38;5;28mself\u001b[39m.origin_to_indices(coarse_level_idx+\u001b[32m1\u001b[39m, fine_block_origin)\n\u001b[32m    340\u001b[39m n_blocks_per = jax.tree.map(\n\u001b[32m    341\u001b[39m     \u001b[38;5;28;01mlambda\u001b[39;00m coarse_size, fine_size: (coarse_size * \u001b[32m2\u001b[39m) // fine_size,\n\u001b[32m--> \u001b[39m\u001b[32m342\u001b[39m     \u001b[43mgrid\u001b[49m.level_specs[coarse_level_idx].block_shape, grid.level_specs[coarse_level_idx+\u001b[32m1\u001b[39m].block_shape)\n\u001b[32m    343\u001b[39m indexer = jnp.ix_(\n\u001b[32m    344\u001b[39m     *jax.tree.map(\u001b[38;5;28;01mlambda\u001b[39;00m o, n: o + jnp.arange(n),\n\u001b[32m    345\u001b[39m         fine_block_indices, n_blocks_per))\n\u001b[32m    346\u001b[39m \u001b[38;5;28;01mreturn\u001b[39;00m indexer\n",
      "\u001b[31mNameError\u001b[39m: name 'grid' is not defined"
     ]
    }
   ],
   "source": [
    "def criterion(coarse, fine):\n",
    "    return jnp.sqrt(jnp.sum(jnp.abs(coarse - fine)**2))\n",
    "    \n",
    "grid = AMR.refine_to_approximate(f_init, criterion)\n",
    "f = grid.approximate(f_init)\n",
    "f = refine_grid_for_function(f, copyout_bcs, approximate_gradient_indicator)\n",
    "# f = refine_grid_for_function(f, copyout_bcs, approximate_gradient_indicator)\n",
    "\n",
    "fig = plot_amr_grid_func(f)"
   ]
  },
  {
   "cell_type": "code",
   "execution_count": null,
   "id": "9e961e3c-2681-43cb-9727-d3eafe43f6a3",
   "metadata": {},
   "outputs": [],
   "source": []
  }
 ],
 "metadata": {
  "kernelspec": {
   "display_name": "Python 3 (ipykernel)",
   "language": "python",
   "name": "python3"
  },
  "language_info": {
   "codemirror_mode": {
    "name": "ipython",
    "version": 3
   },
   "file_extension": ".py",
   "mimetype": "text/x-python",
   "name": "python",
   "nbconvert_exporter": "python",
   "pygments_lexer": "ipython3",
   "version": "3.13.2"
  }
 },
 "nbformat": 4,
 "nbformat_minor": 5
}
